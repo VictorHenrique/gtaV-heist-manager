{
 "cells": [
  {
   "cell_type": "code",
   "execution_count": 254,
   "metadata": {},
   "outputs": [],
   "source": [
    "import requests\n",
    "import urllib.request\n",
    "import time\n",
    "import re\n",
    "from bs4 import BeautifulSoup\n",
    "import numpy as np\n",
    "import pandas as pd\n",
    "from urllib.request import urlopen\n",
    "url = 'https://gta.fandom.com/wiki/Heists_in_GTA_Online'\n",
    "html = urlopen(url) \n",
    "soup = BeautifulSoup(html, 'html.parser')"
   ]
  },
  {
   "cell_type": "code",
   "execution_count": 255,
   "metadata": {},
   "outputs": [],
   "source": [
    "from cgitb import text\n",
    "heists = {}\n",
    "\n",
    "tables = soup.find_all('table')\n",
    "for table in tables:\n",
    "    for info in table.find_all('td'):\n",
    "        data = info.find_all(href = re.compile('^/wiki.*'))\n",
    "        for d in data:\n",
    "            if not str(d).__contains__('Money'):\n",
    "                if d.text not in heists:\n",
    "                    heists[d.text] = []\n",
    "                else:\n",
    "                    continue"
   ]
  },
  {
   "cell_type": "code",
   "execution_count": 256,
   "metadata": {},
   "outputs": [],
   "source": [
    "# Finding Heists added in others DLC's than the original one\n",
    "for heist in soup.body.findAll(text=re.compile('^The.*Heist$')):\n",
    "    if heist not in heists:\n",
    "        heists[heist] = []\n",
    "    else:\n",
    "        continue"
   ]
  },
  {
   "cell_type": "code",
   "execution_count": 262,
   "metadata": {},
   "outputs": [
    {
     "data": {
      "text/plain": [
       "{'The Fleeca Job': [],\n",
       " 'The Prison Break': [],\n",
       " 'The Humane Labs Raid': [],\n",
       " 'Series A Funding': [],\n",
       " 'The Pacific Standard': [],\n",
       " 'The Data Breaches': [],\n",
       " 'The Bogdan Problem': [],\n",
       " 'The Doomsday Heist': [],\n",
       " 'The Diamond Casino Heist': [],\n",
       " 'The Cayo Perico Heist': []}"
      ]
     },
     "execution_count": 262,
     "metadata": {},
     "output_type": "execute_result"
    }
   ],
   "source": [
    "to_del = []\n",
    "\n",
    "for heist in heists.keys():\n",
    "    if not heist.__contains__(\"The\"):\n",
    "        to_del.append(heist)\n",
    "\n",
    "to_del.remove('Series A Funding')\n",
    "to_del.append('The Doomsday Scenario')\n",
    "to_del.append('Grand Theft Auto Online')\n",
    "\n",
    "for item in to_del:\n",
    "    del heists[item]\n",
    "\n",
    "heists"
   ]
  },
  {
   "cell_type": "code",
   "execution_count": 264,
   "metadata": {},
   "outputs": [],
   "source": [
    "txt = open('heists.txt', 'w+')\n",
    "\n",
    "for key in heists.keys():\n",
    "    txt.write(f'{key}\\n')\n",
    "\n",
    "txt.close()"
   ]
  }
 ],
 "metadata": {
  "kernelspec": {
   "display_name": "Python 3.8.10 64-bit",
   "language": "python",
   "name": "python3"
  },
  "language_info": {
   "codemirror_mode": {
    "name": "ipython",
    "version": 3
   },
   "file_extension": ".py",
   "mimetype": "text/x-python",
   "name": "python",
   "nbconvert_exporter": "python",
   "pygments_lexer": "ipython3",
   "version": "3.8.10"
  },
  "orig_nbformat": 4,
  "vscode": {
   "interpreter": {
    "hash": "916dbcbb3f70747c44a77c7bcd40155683ae19c65e1c03b4aa3499c5328201f1"
   }
  }
 },
 "nbformat": 4,
 "nbformat_minor": 2
}
