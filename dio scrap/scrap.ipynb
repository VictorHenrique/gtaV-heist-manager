{
 "cells": [
  {
   "cell_type": "code",
   "execution_count": 319,
   "metadata": {},
   "outputs": [],
   "source": [
    "import requests\n",
    "import urllib.request\n",
    "import time\n",
    "import re\n",
    "from bs4 import BeautifulSoup\n",
    "import numpy as np\n",
    "import pandas as pd\n",
    "from urllib.request import urlopen\n",
    "url = 'https://gta.fandom.com/wiki/Heists_in_GTA_Online'\n",
    "html = urlopen(url) \n",
    "soup = BeautifulSoup(html, 'html.parser')"
   ]
  },
  {
   "cell_type": "code",
   "execution_count": 320,
   "metadata": {},
   "outputs": [],
   "source": [
    "from cgitb import text\n",
    "heists = {}\n",
    "\n",
    "tables = soup.find_all('table')\n",
    "for table in tables:\n",
    "    for info in table.find_all('td'):\n",
    "        data = info.find_all(href = re.compile('^/wiki.*'))\n",
    "        for d in data:\n",
    "            if not str(d).__contains__('Money'):\n",
    "                if d['href'] not in heists:\n",
    "                    heists[d['href']] = []\n",
    "                else:\n",
    "                    continue"
   ]
  },
  {
   "cell_type": "code",
   "execution_count": 321,
   "metadata": {},
   "outputs": [
    {
     "data": {
      "text/plain": [
       "{'/wiki/Fleeca_Job': [],\n",
       " '/wiki/Prison_Break': [],\n",
       " '/wiki/Humane_Raid': [],\n",
       " '/wiki/Series_A': [],\n",
       " '/wiki/Pacific_Standard': [],\n",
       " '/wiki/The_Fleeca_Job': [],\n",
       " '/wiki/Grand_Theft_Auto_Online/Editions': [],\n",
       " '/wiki/PlayStation_4': [],\n",
       " '/wiki/Xbox_One': [],\n",
       " '/wiki/Personal_Computer': [],\n",
       " '/wiki/Grand_Theft_Auto_Online': [],\n",
       " '/wiki/Grand_Theft_Auto_Online#Editions': [],\n",
       " '/wiki/The_Doomsday_Heist#Act_1:_The_Data_Breaches': [],\n",
       " '/wiki/The_Doomsday_Heist#Act_2:_The_Bogdan_Problem': [],\n",
       " '/wiki/The_Doomsday_Heist#Act_3:_The_Doomsday_Scenario': [],\n",
       " '/wiki/GTA_Online:_The_Doomsday_Heist': [],\n",
       " '/wiki/GTA_Online:_The_Diamond_Casino_Heist': [],\n",
       " '/wiki/GTA_Online:_The_Cayo_Perico_Heist': [],\n",
       " '/wiki/The_Doomsday_Heist': [],\n",
       " '/wiki/The_Diamond_Casino_Heist': [],\n",
       " '/wiki/The_Cayo_Perico_Heist': []}"
      ]
     },
     "execution_count": 321,
     "metadata": {},
     "output_type": "execute_result"
    }
   ],
   "source": [
    "# Finding Heists added in others DLC's than the original one\n",
    "for heist in soup.body.findAll(text=re.compile('^The.*Heist$'), href=True):\n",
    "    if heist not in heists:\n",
    "        heists[heist['href']] = []\n",
    "    else:\n",
    "        continue\n",
    "\n",
    "heists"
   ]
  },
  {
   "cell_type": "code",
   "execution_count": 322,
   "metadata": {},
   "outputs": [
    {
     "data": {
      "text/plain": [
       "{'/wiki/Fleeca_Job': [],\n",
       " '/wiki/Prison_Break': [],\n",
       " '/wiki/Humane_Raid': [],\n",
       " '/wiki/Series_A': [],\n",
       " '/wiki/Pacific_Standard': [],\n",
       " '/wiki/The_Fleeca_Job': [],\n",
       " '/wiki/The_Doomsday_Heist': [],\n",
       " '/wiki/The_Diamond_Casino_Heist': [],\n",
       " '/wiki/The_Cayo_Perico_Heist': []}"
      ]
     },
     "execution_count": 322,
     "metadata": {},
     "output_type": "execute_result"
    }
   ],
   "source": [
    "keys = list(heists.keys())\n",
    "\n",
    "for idx in range(6, 18):\n",
    "    del heists[keys[idx]]\n",
    "\n",
    "heists"
   ]
  },
  {
   "cell_type": "code",
   "execution_count": 323,
   "metadata": {},
   "outputs": [],
   "source": [
    "txt = open('heists.txt', 'w+')\n",
    "\n",
    "for key in heists.keys():\n",
    "    txt.write(f'{key}\\n')\n",
    "\n",
    "txt.close()"
   ]
  }
 ],
 "metadata": {
  "kernelspec": {
   "display_name": "Python 3.8.10 64-bit",
   "language": "python",
   "name": "python3"
  },
  "language_info": {
   "codemirror_mode": {
    "name": "ipython",
    "version": 3
   },
   "file_extension": ".py",
   "mimetype": "text/x-python",
   "name": "python",
   "nbconvert_exporter": "python",
   "pygments_lexer": "ipython3",
   "version": "3.8.10"
  },
  "orig_nbformat": 4,
  "vscode": {
   "interpreter": {
    "hash": "916dbcbb3f70747c44a77c7bcd40155683ae19c65e1c03b4aa3499c5328201f1"
   }
  }
 },
 "nbformat": 4,
 "nbformat_minor": 2
}
