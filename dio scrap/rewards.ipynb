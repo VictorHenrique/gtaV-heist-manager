{
 "cells": [
  {
   "cell_type": "code",
   "execution_count": 46,
   "metadata": {},
   "outputs": [],
   "source": [
    "import requests\n",
    "import urllib.request\n",
    "import time\n",
    "import re\n",
    "from bs4 import BeautifulSoup\n",
    "import numpy as np\n",
    "import pandas as pd\n",
    "from urllib.request import urlopen\n",
    "url = 'https://gta.fandom.com'"
   ]
  },
  {
   "cell_type": "code",
   "execution_count": 47,
   "metadata": {},
   "outputs": [
    {
     "data": {
      "text/plain": [
       "{'Fleeca Job - Scope Out Easy = ': [],\n",
       " 'Fleeca Job - Scope Out Normal = $4,370 ': [],\n",
       " 'Fleeca Job - Scope Out Hard = $5,460  ': [],\n",
       " 'Fleeca Job - Kuruma Easy = $1,935 ': [],\n",
       " 'Fleeca Job - Kuruma Normal = $3,870 ': [],\n",
       " 'Fleeca Job - Kuruma Hard = $4,960 ': [],\n",
       " 'The Fleeca Job Easy = $100,625': [],\n",
       " 'The Fleeca Job Normal = $201,250': [],\n",
       " 'The Fleeca Job Hard = $250,250': [],\n",
       " 'Prison Break - Plane Easy = $7,600 ': [],\n",
       " 'Prison Break - Plane Normal = $15,200 ': [],\n",
       " 'Prison Break - Plane Hard = $19,000 ': [],\n",
       " 'Prison Break - Station Easy = $7,600 ': [],\n",
       " 'Prison Break - Station Normal = $14,700 ': [],\n",
       " 'Prison Break - Station Hard = $18,500 ': [],\n",
       " 'The Prison Break Easy = $350,000': [],\n",
       " 'The Prison Break Normal = $700,000': [],\n",
       " 'The Prison Break Hard = $875,000': [],\n",
       " 'Humane Raid - Key Codes Easy = $10,260 ': [],\n",
       " 'Humane Raid - Key Codes Normal = $20,520 ': [],\n",
       " 'Humane Raid - Key Codes Hard = $25,650 ': [],\n",
       " 'Humane Raid - Insurgents Easy = $10,260 ': [],\n",
       " 'Humane Raid - Insurgents Normal = $20,520 ': [],\n",
       " 'Humane Raid - Insurgents Hard = $25,650 ': [],\n",
       " 'Humane Raid - EMP Easy = $10,260 ': [],\n",
       " 'Humane Raid - EMP Normal = $20,520 ': [],\n",
       " 'Humane Raid - EMP Hard = $25,650 ': [],\n",
       " 'Humane Raid - Valkyrie Easy = $10,260 ': [],\n",
       " 'Humane Raid - Valkyrie Normal = $20,520 ': [],\n",
       " 'Humane Raid - Valkyrie Hard = $25,650 ': [],\n",
       " 'Humane Raid - Deliver EMP Easy = $10,260 ': [],\n",
       " 'Humane Raid - Deliver EMP Normal = $20,520 ': [],\n",
       " 'Humane Raid - Deliver EMP Hard = $25,650 ': [],\n",
       " 'The Humane Labs Raid Easy = $472,500': [],\n",
       " 'The Humane Labs Raid Normal = $945,000': [],\n",
       " 'The Humane Labs Raid Hard = $1,181,500': [],\n",
       " 'Series A - Coke Easy = $7,676 ': [],\n",
       " 'Series A - Coke Normal = $15,352 ': [],\n",
       " 'Series A - Coke Hard = $19,190 ': [],\n",
       " 'Series A - Trash Truck Easy = $7,676 ': [],\n",
       " 'Series A - Trash Truck Normal = $15,352 ': [],\n",
       " 'Series A - Trash Truck Hard = $19,190 ': [],\n",
       " 'Series A - Bikers Easy = $7,676 ': [],\n",
       " 'Series A - Bikers Normal = $15,352 ': [],\n",
       " 'Series A - Bikers Hard = $19,190 ': [],\n",
       " 'Series A - Weed Easy = $7,676 ': [],\n",
       " 'Series A - Weed Normal = $15,352 ': [],\n",
       " 'Series A - Weed Hard = $19,190 ': [],\n",
       " 'Series A - Steal Meth Easy = $7,676 ': [],\n",
       " 'Series A - Steal Meth Normal = $15,352 ': [],\n",
       " 'Series A - Steal Meth Hard = $19,190 ': [],\n",
       " 'Series A Funding Easy = $353,500': [],\n",
       " 'Series A Funding Normal = $707,000': [],\n",
       " 'Series A Funding Hard = $883,750': [],\n",
       " 'Pacific Standard - Vans Easy = $10,450 ': [],\n",
       " 'Pacific Standard - Vans Normal = $20,900 ': [],\n",
       " 'Pacific Standard - Vans Hard = $26,130 ': [],\n",
       " 'Pacific Standard - Signal Easy = $10,450 ': [],\n",
       " 'Pacific Standard - Signal Normal = $20,900 ': [],\n",
       " 'Pacific Standard - Signal Hard = $26,130 ': [],\n",
       " 'Pacific Standard - Hack Easy = $10,450 ': [],\n",
       " 'Pacific Standard - Hack Normal = $20,900 ': [],\n",
       " 'Pacific Standard - Hack Hard = $26,130 ': [],\n",
       " 'Pacific Standard - Convoy Easy = $10,450 ': [],\n",
       " 'Pacific Standard - Convoy Normal = $20,900 ': [],\n",
       " 'Pacific Standard - Convoy Hard = $26,130 ': [],\n",
       " 'The Pacific Standard Job Easy = $750,000': [],\n",
       " 'The Pacific Standard Job Normal = $1,500,000': [],\n",
       " 'The Pacific Standard Job Hard = $1,875,000': []}"
      ]
     },
     "execution_count": 47,
     "metadata": {},
     "output_type": "execute_result"
    }
   ],
   "source": [
    "with open('heists_preps.txt') as file:\n",
    "    lines = file.readlines()\n",
    "\n",
    "rewards = {}\n",
    "\n",
    "for line in lines:\n",
    "    line = line.strip()\n",
    "    html = urlopen(url + line)\n",
    "    line = line[6:].replace('_', ' ')\n",
    "    soup = BeautifulSoup(html, 'html.parser')\n",
    "    for div in soup.find_all('div', {'data-source': 'reward'}):\n",
    "        for reward in div.find_all('li'):\n",
    "            words = reward.findAll(text=True)\n",
    "            for word in words:\n",
    "                if word.__contains__('Easy'):\n",
    "                    result = f'{line} Easy = '\n",
    "                if word.__contains__('Normal'):\n",
    "                    result = f'{line} Normal = '\n",
    "                if word.__contains__('Hard'):\n",
    "                    result = f'{line} Hard = '\n",
    "            reward_regex = re.compile(\"^[$]?[0-9]+?\")\n",
    "            for word in words:\n",
    "                if reward_regex.search(word):\n",
    "                    if word.__contains__('$'):\n",
    "                        result += word\n",
    "                    else:\n",
    "                        result += '$' + word\n",
    "            if result not in rewards:\n",
    "                rewards[result] = []\n",
    "            else:\n",
    "                continue\n",
    "\n",
    "rewards"
   ]
  },
  {
   "cell_type": "code",
   "execution_count": 48,
   "metadata": {},
   "outputs": [],
   "source": [
    "txt = open('rewards.txt', 'w+')\n",
    "\n",
    "for key in rewards.keys():\n",
    "    txt.write(f'{key}\\n')\n",
    "\n",
    "txt.close()"
   ]
  }
 ],
 "metadata": {
  "kernelspec": {
   "display_name": "Python 3.8.10 64-bit",
   "language": "python",
   "name": "python3"
  },
  "language_info": {
   "codemirror_mode": {
    "name": "ipython",
    "version": 3
   },
   "file_extension": ".py",
   "mimetype": "text/x-python",
   "name": "python",
   "nbconvert_exporter": "python",
   "pygments_lexer": "ipython3",
   "version": "3.8.10"
  },
  "orig_nbformat": 4,
  "vscode": {
   "interpreter": {
    "hash": "916dbcbb3f70747c44a77c7bcd40155683ae19c65e1c03b4aa3499c5328201f1"
   }
  }
 },
 "nbformat": 4,
 "nbformat_minor": 2
}
