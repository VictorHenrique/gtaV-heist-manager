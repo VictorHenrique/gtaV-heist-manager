{
 "cells": [
  {
   "cell_type": "code",
   "execution_count": 2,
   "metadata": {},
   "outputs": [],
   "source": [
    "import requests\n",
    "import urllib.request\n",
    "import time\n",
    "import re\n",
    "from bs4 import BeautifulSoup\n",
    "import numpy as np\n",
    "import pandas as pd\n",
    "from urllib.request import urlopen"
   ]
  },
  {
   "cell_type": "code",
   "execution_count": 3,
   "metadata": {},
   "outputs": [],
   "source": [
    "url = 'https://gta.fandom.com'"
   ]
  },
  {
   "cell_type": "code",
   "execution_count": 44,
   "metadata": {},
   "outputs": [
    {
     "data": {
      "text/plain": [
       "{'/wiki/Fleeca_Job_-_Scope_Out': [],\n",
       " '/wiki/Fleeca_Job_-_Kuruma': [],\n",
       " '/wiki/The_Fleeca_Job': [],\n",
       " '/wiki/Prison_Break_-_Plane': [],\n",
       " '/wiki/Prison_Break_-_Bus': [],\n",
       " '/wiki/Prison_Break_-_Station': [],\n",
       " '/wiki/Prison_Break_-_Wet_Work': [],\n",
       " '/wiki/The_Prison_Break': [],\n",
       " '/wiki/Humane_Raid_-_Key_Codes': [],\n",
       " '/wiki/Humane_Raid_-_Insurgents': [],\n",
       " '/wiki/Humane_Raid_-_EMP': [],\n",
       " '/wiki/Humane_Raid_-_Valkyrie': [],\n",
       " '/wiki/Humane_Raid_-_Deliver_EMP': [],\n",
       " '/wiki/The_Humane_Labs_Raid': [],\n",
       " '/wiki/Series_A_-_Coke': [],\n",
       " '/wiki/Series_A_-_Trash_Truck': [],\n",
       " '/wiki/Series_A_-_Bikers': [],\n",
       " '/wiki/Series_A_-_Weed': [],\n",
       " '/wiki/Series_A_-_Steal_Meth': [],\n",
       " '/wiki/Series_A_Funding': [],\n",
       " '/wiki/Pacific_Standard_-_Vans': [],\n",
       " '/wiki/Pacific_Standard_-_Signal': [],\n",
       " '/wiki/Pacific_Standard_-_Hack': [],\n",
       " '/wiki/Pacific_Standard_-_Convoy': [],\n",
       " '/wiki/Pacific_Standard_-_Bikes': [],\n",
       " '/wiki/The_Pacific_Standard_Job': [],\n",
       " '/wiki/The_Doomsday_Heist/Preparations': [],\n",
       " '/wiki/Arcades#Setup': [],\n",
       " '/wiki/Arcades/Setup:_Equipment': [],\n",
       " '/wiki/Setup:_Casino_Scoping': [],\n",
       " '/wiki/Heist_Prep:_Vault_Contents': [],\n",
       " '/wiki/The_Diamond_Casino_Heist/Preparations': [],\n",
       " '/wiki/Casino_Heist_-_Silent_%26_Sneaky': [],\n",
       " '/wiki/Casino_Heist_-_The_Big_Con': [],\n",
       " '/wiki/Casino_Heist_-_Aggressive': [],\n",
       " '/wiki/Heist_Prep:_Gather_Intel': [],\n",
       " '/wiki/The_Cayo_Perico_Heist/Preparations': [],\n",
       " '/wiki/The_Cayo_Perico_Heist/Finale': []}"
      ]
     },
     "execution_count": 44,
     "metadata": {},
     "output_type": "execute_result"
    }
   ],
   "source": [
    "with open('heists.txt') as file:\n",
    "    lines = file.readlines()\n",
    "\n",
    "heists_preps = {}\n",
    "\n",
    "for line in lines:\n",
    "    line = line.strip()\n",
    "    html = urlopen(url + line)\n",
    "    soup = BeautifulSoup(html, 'html.parser')\n",
    "    for div in soup.find_all('div', {'class': 'noprint'}):\n",
    "        for prep in div.find_all('a'):\n",
    "            if str(prep).__contains__(f'{line}') not in heists_preps:\n",
    "                if prep['href'][:6] == '/wiki/':\n",
    "                    heists_preps[prep['href']] = []\n",
    "            else:\n",
    "                continue\n",
    "\n",
    "keys = list(heists_preps.keys())\n",
    "\n",
    "for i in [3, 4, 29]:\n",
    "    del heists_preps[keys[i]]\n",
    "\n",
    "heists_preps"
   ]
  },
  {
   "cell_type": "code",
   "execution_count": 45,
   "metadata": {},
   "outputs": [],
   "source": [
    "txt = open('heists_preps.txt', 'w+')\n",
    "\n",
    "for key in heists_preps.keys():\n",
    "    txt.write(f'{key}\\n')\n",
    "\n",
    "txt.close()"
   ]
  }
 ],
 "metadata": {
  "kernelspec": {
   "display_name": "Python 3.8.10 64-bit",
   "language": "python",
   "name": "python3"
  },
  "language_info": {
   "codemirror_mode": {
    "name": "ipython",
    "version": 3
   },
   "file_extension": ".py",
   "mimetype": "text/x-python",
   "name": "python",
   "nbconvert_exporter": "python",
   "pygments_lexer": "ipython3",
   "version": "3.8.10"
  },
  "orig_nbformat": 4,
  "vscode": {
   "interpreter": {
    "hash": "916dbcbb3f70747c44a77c7bcd40155683ae19c65e1c03b4aa3499c5328201f1"
   }
  }
 },
 "nbformat": 4,
 "nbformat_minor": 2
}
